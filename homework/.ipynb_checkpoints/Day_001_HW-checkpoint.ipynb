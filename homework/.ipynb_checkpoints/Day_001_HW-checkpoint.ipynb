{
 "cells": [
  {
   "cell_type": "markdown",
   "metadata": {},
   "source": [
    "# 作業一："
   ]
  },
  {
   "cell_type": "markdown",
   "metadata": {},
   "source": [
    "1. >* 題目：Zillow Prize: Zillow’s Home Value Prediction (Zestimate) <br /> Can you improve the algorithm that changed the world of real estate? \n",
    ">* 獎金 $1,200,000 為 Kaggle 前三高\n",
    ">* 房子是大部分人一生中花費最大的單一物件\n",
    ">* 可作為投資指標\n",
    ">* 避免當冤大頭\n",
    "2. >* 公開資料：房產價值依照該國、地區公開資料的精確度而定，例如房間、浴室數量與坪數\n",
    ">* UGC：Zillow 提供屋主自行對屋況的描述，增加精準度\n",
    ">* 當地房仲資料\n",
    ">* 專人鑑定\n",
    ">* 實地訪查\n",
    "3. >* 結構化資料：數值、表格\n",
    "4. >* 預估 logerror 準確率（Accuracy）：讓房產透過 Zillow 估算出來的價值越接近成交價 "
   ]
  },
  {
   "cell_type": "markdown",
   "metadata": {},
   "source": [
    "# 作業二："
   ]
  },
  {
   "cell_type": "markdown",
   "metadata": {},
   "source": [
    "1. >* 減少乘客等待時間 \n",
    ">* 減少駕駛連續接案的間隔\n",
    ">* 規劃更順暢的路線，降低能源損耗\n",
    "2. >* 軟體記錄\n",
    ">* GPS 定位記錄\n",
    "3. >* 結構化：數值、表格\n",
    "4. >* 交叉分析定位與使用記錄"
   ]
  },
  {
   "cell_type": "markdown",
   "metadata": {},
   "source": [
    "# 作業三："
   ]
  },
  {
   "cell_type": "markdown",
   "metadata": {},
   "source": [
    "### TBD will submit soon"
   ]
  }
 ],
 "metadata": {
  "kernelspec": {
   "display_name": "Python 3",
   "language": "python",
   "name": "python3"
  },
  "language_info": {
   "codemirror_mode": {
    "name": "ipython",
    "version": 3
   },
   "file_extension": ".py",
   "mimetype": "text/x-python",
   "name": "python",
   "nbconvert_exporter": "python",
   "pygments_lexer": "ipython3",
   "version": "3.7.3"
  }
 },
 "nbformat": 4,
 "nbformat_minor": 2
}
